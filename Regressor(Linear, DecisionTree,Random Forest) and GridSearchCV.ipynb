{
 "cells": [
  {
   "cell_type": "code",
   "execution_count": 1,
   "id": "3e47e4b2",
   "metadata": {},
   "outputs": [],
   "source": [
    "import pandas as pd"
   ]
  },
  {
   "cell_type": "code",
   "execution_count": 2,
   "id": "07f5300d",
   "metadata": {},
   "outputs": [],
   "source": [
    "import numpy as np"
   ]
  },
  {
   "cell_type": "code",
   "execution_count": 3,
   "id": "1853e034",
   "metadata": {},
   "outputs": [
    {
     "data": {
      "text/html": [
       "<div>\n",
       "<style scoped>\n",
       "    .dataframe tbody tr th:only-of-type {\n",
       "        vertical-align: middle;\n",
       "    }\n",
       "\n",
       "    .dataframe tbody tr th {\n",
       "        vertical-align: top;\n",
       "    }\n",
       "\n",
       "    .dataframe thead th {\n",
       "        text-align: right;\n",
       "    }\n",
       "</style>\n",
       "<table border=\"1\" class=\"dataframe\">\n",
       "  <thead>\n",
       "    <tr style=\"text-align: right;\">\n",
       "      <th></th>\n",
       "      <th>Unnamed: 0</th>\n",
       "      <th>Company</th>\n",
       "      <th>TypeName</th>\n",
       "      <th>Ram</th>\n",
       "      <th>Weight</th>\n",
       "      <th>Price</th>\n",
       "      <th>TouchScreen</th>\n",
       "      <th>Ips</th>\n",
       "      <th>PPI</th>\n",
       "      <th>Cpu Brand</th>\n",
       "      <th>HDD</th>\n",
       "      <th>SSD</th>\n",
       "      <th>Gpu Brand</th>\n",
       "      <th>Operating_System</th>\n",
       "    </tr>\n",
       "  </thead>\n",
       "  <tbody>\n",
       "    <tr>\n",
       "      <th>0</th>\n",
       "      <td>0</td>\n",
       "      <td>Apple</td>\n",
       "      <td>Ultrabook</td>\n",
       "      <td>8</td>\n",
       "      <td>1.37</td>\n",
       "      <td>71378.6832</td>\n",
       "      <td>Not Touch</td>\n",
       "      <td>IPS Channel</td>\n",
       "      <td>226.983005</td>\n",
       "      <td>Intel Core i5</td>\n",
       "      <td>0</td>\n",
       "      <td>128</td>\n",
       "      <td>Intel</td>\n",
       "      <td>Mac OS</td>\n",
       "    </tr>\n",
       "    <tr>\n",
       "      <th>1</th>\n",
       "      <td>1</td>\n",
       "      <td>Apple</td>\n",
       "      <td>Ultrabook</td>\n",
       "      <td>8</td>\n",
       "      <td>1.34</td>\n",
       "      <td>47895.5232</td>\n",
       "      <td>Not Touch</td>\n",
       "      <td>Not IPS Channel</td>\n",
       "      <td>127.677940</td>\n",
       "      <td>Intel Core i5</td>\n",
       "      <td>0</td>\n",
       "      <td>0</td>\n",
       "      <td>Intel</td>\n",
       "      <td>Mac OS</td>\n",
       "    </tr>\n",
       "    <tr>\n",
       "      <th>2</th>\n",
       "      <td>2</td>\n",
       "      <td>HP</td>\n",
       "      <td>Notebook</td>\n",
       "      <td>8</td>\n",
       "      <td>1.86</td>\n",
       "      <td>30636.0000</td>\n",
       "      <td>Not Touch</td>\n",
       "      <td>Not IPS Channel</td>\n",
       "      <td>141.211998</td>\n",
       "      <td>Intel Core i5</td>\n",
       "      <td>0</td>\n",
       "      <td>256</td>\n",
       "      <td>Intel</td>\n",
       "      <td>Others/No OS/Linux</td>\n",
       "    </tr>\n",
       "    <tr>\n",
       "      <th>3</th>\n",
       "      <td>3</td>\n",
       "      <td>Apple</td>\n",
       "      <td>Ultrabook</td>\n",
       "      <td>16</td>\n",
       "      <td>1.83</td>\n",
       "      <td>135195.3360</td>\n",
       "      <td>Not Touch</td>\n",
       "      <td>IPS Channel</td>\n",
       "      <td>220.534624</td>\n",
       "      <td>Intel Core i7</td>\n",
       "      <td>0</td>\n",
       "      <td>512</td>\n",
       "      <td>AMD</td>\n",
       "      <td>Mac OS</td>\n",
       "    </tr>\n",
       "    <tr>\n",
       "      <th>4</th>\n",
       "      <td>4</td>\n",
       "      <td>Apple</td>\n",
       "      <td>Ultrabook</td>\n",
       "      <td>8</td>\n",
       "      <td>1.37</td>\n",
       "      <td>96095.8080</td>\n",
       "      <td>Not Touch</td>\n",
       "      <td>IPS Channel</td>\n",
       "      <td>226.983005</td>\n",
       "      <td>Intel Core i5</td>\n",
       "      <td>0</td>\n",
       "      <td>256</td>\n",
       "      <td>Intel</td>\n",
       "      <td>Mac OS</td>\n",
       "    </tr>\n",
       "  </tbody>\n",
       "</table>\n",
       "</div>"
      ],
      "text/plain": [
       "   Unnamed: 0 Company   TypeName  Ram  Weight        Price TouchScreen  \\\n",
       "0           0   Apple  Ultrabook    8    1.37   71378.6832   Not Touch   \n",
       "1           1   Apple  Ultrabook    8    1.34   47895.5232   Not Touch   \n",
       "2           2      HP   Notebook    8    1.86   30636.0000   Not Touch   \n",
       "3           3   Apple  Ultrabook   16    1.83  135195.3360   Not Touch   \n",
       "4           4   Apple  Ultrabook    8    1.37   96095.8080   Not Touch   \n",
       "\n",
       "               Ips         PPI      Cpu Brand  HDD  SSD Gpu Brand  \\\n",
       "0      IPS Channel  226.983005  Intel Core i5    0  128     Intel   \n",
       "1  Not IPS Channel  127.677940  Intel Core i5    0    0     Intel   \n",
       "2  Not IPS Channel  141.211998  Intel Core i5    0  256     Intel   \n",
       "3      IPS Channel  220.534624  Intel Core i7    0  512       AMD   \n",
       "4      IPS Channel  226.983005  Intel Core i5    0  256     Intel   \n",
       "\n",
       "     Operating_System  \n",
       "0              Mac OS  \n",
       "1              Mac OS  \n",
       "2  Others/No OS/Linux  \n",
       "3              Mac OS  \n",
       "4              Mac OS  "
      ]
     },
     "execution_count": 3,
     "metadata": {},
     "output_type": "execute_result"
    }
   ],
   "source": [
    "df=pd.read_csv(\"Laptop_cleaned_data.csv\")\n",
    "df.head()"
   ]
  },
  {
   "cell_type": "code",
   "execution_count": 4,
   "id": "6f3185fd",
   "metadata": {},
   "outputs": [],
   "source": [
    "df.drop(columns='Unnamed: 0', inplace=True)"
   ]
  },
  {
   "cell_type": "code",
   "execution_count": 5,
   "id": "acca4aed",
   "metadata": {},
   "outputs": [
    {
     "data": {
      "text/plain": [
       "(1302, 13)"
      ]
     },
     "execution_count": 5,
     "metadata": {},
     "output_type": "execute_result"
    }
   ],
   "source": [
    "df.shape"
   ]
  },
  {
   "cell_type": "code",
   "execution_count": 6,
   "id": "7b62ac9d",
   "metadata": {
    "scrolled": true
   },
   "outputs": [
    {
     "data": {
      "text/html": [
       "<div>\n",
       "<style scoped>\n",
       "    .dataframe tbody tr th:only-of-type {\n",
       "        vertical-align: middle;\n",
       "    }\n",
       "\n",
       "    .dataframe tbody tr th {\n",
       "        vertical-align: top;\n",
       "    }\n",
       "\n",
       "    .dataframe thead th {\n",
       "        text-align: right;\n",
       "    }\n",
       "</style>\n",
       "<table border=\"1\" class=\"dataframe\">\n",
       "  <thead>\n",
       "    <tr style=\"text-align: right;\">\n",
       "      <th></th>\n",
       "      <th>Company</th>\n",
       "      <th>TypeName</th>\n",
       "      <th>Ram</th>\n",
       "      <th>Weight</th>\n",
       "      <th>TouchScreen</th>\n",
       "      <th>Ips</th>\n",
       "      <th>PPI</th>\n",
       "      <th>Cpu Brand</th>\n",
       "      <th>HDD</th>\n",
       "      <th>SSD</th>\n",
       "      <th>Gpu Brand</th>\n",
       "      <th>Operating_System</th>\n",
       "    </tr>\n",
       "  </thead>\n",
       "  <tbody>\n",
       "    <tr>\n",
       "      <th>0</th>\n",
       "      <td>Apple</td>\n",
       "      <td>Ultrabook</td>\n",
       "      <td>8</td>\n",
       "      <td>1.37</td>\n",
       "      <td>Not Touch</td>\n",
       "      <td>IPS Channel</td>\n",
       "      <td>226.983005</td>\n",
       "      <td>Intel Core i5</td>\n",
       "      <td>0</td>\n",
       "      <td>128</td>\n",
       "      <td>Intel</td>\n",
       "      <td>Mac OS</td>\n",
       "    </tr>\n",
       "    <tr>\n",
       "      <th>1</th>\n",
       "      <td>Apple</td>\n",
       "      <td>Ultrabook</td>\n",
       "      <td>8</td>\n",
       "      <td>1.34</td>\n",
       "      <td>Not Touch</td>\n",
       "      <td>Not IPS Channel</td>\n",
       "      <td>127.677940</td>\n",
       "      <td>Intel Core i5</td>\n",
       "      <td>0</td>\n",
       "      <td>0</td>\n",
       "      <td>Intel</td>\n",
       "      <td>Mac OS</td>\n",
       "    </tr>\n",
       "    <tr>\n",
       "      <th>2</th>\n",
       "      <td>HP</td>\n",
       "      <td>Notebook</td>\n",
       "      <td>8</td>\n",
       "      <td>1.86</td>\n",
       "      <td>Not Touch</td>\n",
       "      <td>Not IPS Channel</td>\n",
       "      <td>141.211998</td>\n",
       "      <td>Intel Core i5</td>\n",
       "      <td>0</td>\n",
       "      <td>256</td>\n",
       "      <td>Intel</td>\n",
       "      <td>Others/No OS/Linux</td>\n",
       "    </tr>\n",
       "    <tr>\n",
       "      <th>3</th>\n",
       "      <td>Apple</td>\n",
       "      <td>Ultrabook</td>\n",
       "      <td>16</td>\n",
       "      <td>1.83</td>\n",
       "      <td>Not Touch</td>\n",
       "      <td>IPS Channel</td>\n",
       "      <td>220.534624</td>\n",
       "      <td>Intel Core i7</td>\n",
       "      <td>0</td>\n",
       "      <td>512</td>\n",
       "      <td>AMD</td>\n",
       "      <td>Mac OS</td>\n",
       "    </tr>\n",
       "    <tr>\n",
       "      <th>4</th>\n",
       "      <td>Apple</td>\n",
       "      <td>Ultrabook</td>\n",
       "      <td>8</td>\n",
       "      <td>1.37</td>\n",
       "      <td>Not Touch</td>\n",
       "      <td>IPS Channel</td>\n",
       "      <td>226.983005</td>\n",
       "      <td>Intel Core i5</td>\n",
       "      <td>0</td>\n",
       "      <td>256</td>\n",
       "      <td>Intel</td>\n",
       "      <td>Mac OS</td>\n",
       "    </tr>\n",
       "    <tr>\n",
       "      <th>...</th>\n",
       "      <td>...</td>\n",
       "      <td>...</td>\n",
       "      <td>...</td>\n",
       "      <td>...</td>\n",
       "      <td>...</td>\n",
       "      <td>...</td>\n",
       "      <td>...</td>\n",
       "      <td>...</td>\n",
       "      <td>...</td>\n",
       "      <td>...</td>\n",
       "      <td>...</td>\n",
       "      <td>...</td>\n",
       "    </tr>\n",
       "    <tr>\n",
       "      <th>1297</th>\n",
       "      <td>Lenovo</td>\n",
       "      <td>2 in 1 Convertible</td>\n",
       "      <td>4</td>\n",
       "      <td>1.80</td>\n",
       "      <td>Touch</td>\n",
       "      <td>IPS Channel</td>\n",
       "      <td>157.350512</td>\n",
       "      <td>Intel Core i7</td>\n",
       "      <td>0</td>\n",
       "      <td>128</td>\n",
       "      <td>Intel</td>\n",
       "      <td>Windows</td>\n",
       "    </tr>\n",
       "    <tr>\n",
       "      <th>1298</th>\n",
       "      <td>Lenovo</td>\n",
       "      <td>2 in 1 Convertible</td>\n",
       "      <td>16</td>\n",
       "      <td>1.30</td>\n",
       "      <td>Touch</td>\n",
       "      <td>IPS Channel</td>\n",
       "      <td>276.053530</td>\n",
       "      <td>Intel Core i7</td>\n",
       "      <td>0</td>\n",
       "      <td>512</td>\n",
       "      <td>Intel</td>\n",
       "      <td>Windows</td>\n",
       "    </tr>\n",
       "    <tr>\n",
       "      <th>1299</th>\n",
       "      <td>Lenovo</td>\n",
       "      <td>Notebook</td>\n",
       "      <td>2</td>\n",
       "      <td>1.50</td>\n",
       "      <td>Not Touch</td>\n",
       "      <td>Not IPS Channel</td>\n",
       "      <td>111.935204</td>\n",
       "      <td>Other Intel Processor</td>\n",
       "      <td>0</td>\n",
       "      <td>0</td>\n",
       "      <td>Intel</td>\n",
       "      <td>Windows</td>\n",
       "    </tr>\n",
       "    <tr>\n",
       "      <th>1300</th>\n",
       "      <td>HP</td>\n",
       "      <td>Notebook</td>\n",
       "      <td>6</td>\n",
       "      <td>2.19</td>\n",
       "      <td>Not Touch</td>\n",
       "      <td>Not IPS Channel</td>\n",
       "      <td>100.454670</td>\n",
       "      <td>Intel Core i7</td>\n",
       "      <td>1000</td>\n",
       "      <td>0</td>\n",
       "      <td>AMD</td>\n",
       "      <td>Windows</td>\n",
       "    </tr>\n",
       "    <tr>\n",
       "      <th>1301</th>\n",
       "      <td>Asus</td>\n",
       "      <td>Notebook</td>\n",
       "      <td>4</td>\n",
       "      <td>2.20</td>\n",
       "      <td>Not Touch</td>\n",
       "      <td>Not IPS Channel</td>\n",
       "      <td>100.454670</td>\n",
       "      <td>Other Intel Processor</td>\n",
       "      <td>500</td>\n",
       "      <td>0</td>\n",
       "      <td>Intel</td>\n",
       "      <td>Windows</td>\n",
       "    </tr>\n",
       "  </tbody>\n",
       "</table>\n",
       "<p>1302 rows × 12 columns</p>\n",
       "</div>"
      ],
      "text/plain": [
       "     Company            TypeName  Ram  Weight TouchScreen              Ips  \\\n",
       "0      Apple           Ultrabook    8    1.37   Not Touch      IPS Channel   \n",
       "1      Apple           Ultrabook    8    1.34   Not Touch  Not IPS Channel   \n",
       "2         HP            Notebook    8    1.86   Not Touch  Not IPS Channel   \n",
       "3      Apple           Ultrabook   16    1.83   Not Touch      IPS Channel   \n",
       "4      Apple           Ultrabook    8    1.37   Not Touch      IPS Channel   \n",
       "...      ...                 ...  ...     ...         ...              ...   \n",
       "1297  Lenovo  2 in 1 Convertible    4    1.80       Touch      IPS Channel   \n",
       "1298  Lenovo  2 in 1 Convertible   16    1.30       Touch      IPS Channel   \n",
       "1299  Lenovo            Notebook    2    1.50   Not Touch  Not IPS Channel   \n",
       "1300      HP            Notebook    6    2.19   Not Touch  Not IPS Channel   \n",
       "1301    Asus            Notebook    4    2.20   Not Touch  Not IPS Channel   \n",
       "\n",
       "             PPI              Cpu Brand   HDD  SSD Gpu Brand  \\\n",
       "0     226.983005          Intel Core i5     0  128     Intel   \n",
       "1     127.677940          Intel Core i5     0    0     Intel   \n",
       "2     141.211998          Intel Core i5     0  256     Intel   \n",
       "3     220.534624          Intel Core i7     0  512       AMD   \n",
       "4     226.983005          Intel Core i5     0  256     Intel   \n",
       "...          ...                    ...   ...  ...       ...   \n",
       "1297  157.350512          Intel Core i7     0  128     Intel   \n",
       "1298  276.053530          Intel Core i7     0  512     Intel   \n",
       "1299  111.935204  Other Intel Processor     0    0     Intel   \n",
       "1300  100.454670          Intel Core i7  1000    0       AMD   \n",
       "1301  100.454670  Other Intel Processor   500    0     Intel   \n",
       "\n",
       "        Operating_System  \n",
       "0                 Mac OS  \n",
       "1                 Mac OS  \n",
       "2     Others/No OS/Linux  \n",
       "3                 Mac OS  \n",
       "4                 Mac OS  \n",
       "...                  ...  \n",
       "1297             Windows  \n",
       "1298             Windows  \n",
       "1299             Windows  \n",
       "1300             Windows  \n",
       "1301             Windows  \n",
       "\n",
       "[1302 rows x 12 columns]"
      ]
     },
     "execution_count": 6,
     "metadata": {},
     "output_type": "execute_result"
    }
   ],
   "source": [
    "# independent variable\n",
    "x = df.drop(columns = ['Price'])\n",
    "x"
   ]
  },
  {
   "cell_type": "code",
   "execution_count": 7,
   "id": "fa6e3951",
   "metadata": {},
   "outputs": [
    {
     "data": {
      "text/plain": [
       "0       11.175755\n",
       "1       10.776777\n",
       "2       10.329931\n",
       "3       11.814476\n",
       "4       11.473101\n",
       "          ...    \n",
       "1297    10.433899\n",
       "1298    11.288115\n",
       "1299     9.409283\n",
       "1300    10.614129\n",
       "1301     9.886358\n",
       "Name: Price, Length: 1302, dtype: float64"
      ]
     },
     "execution_count": 7,
     "metadata": {},
     "output_type": "execute_result"
    }
   ],
   "source": [
    "y=np.log(df['Price'])\n",
    "y"
   ]
  },
  {
   "cell_type": "code",
   "execution_count": 8,
   "id": "e82ee310",
   "metadata": {},
   "outputs": [
    {
     "name": "stdout",
     "output_type": "stream",
     "text": [
      "(1302, 12) (1302,)\n"
     ]
    }
   ],
   "source": [
    "print(x.shape,y.shape)"
   ]
  },
  {
   "cell_type": "code",
   "execution_count": 9,
   "id": "1bb12390",
   "metadata": {},
   "outputs": [
    {
     "data": {
      "text/html": [
       "<div>\n",
       "<style scoped>\n",
       "    .dataframe tbody tr th:only-of-type {\n",
       "        vertical-align: middle;\n",
       "    }\n",
       "\n",
       "    .dataframe tbody tr th {\n",
       "        vertical-align: top;\n",
       "    }\n",
       "\n",
       "    .dataframe thead th {\n",
       "        text-align: right;\n",
       "    }\n",
       "</style>\n",
       "<table border=\"1\" class=\"dataframe\">\n",
       "  <thead>\n",
       "    <tr style=\"text-align: right;\">\n",
       "      <th></th>\n",
       "      <th>Company</th>\n",
       "      <th>TypeName</th>\n",
       "      <th>Ram</th>\n",
       "      <th>Weight</th>\n",
       "      <th>TouchScreen</th>\n",
       "      <th>Ips</th>\n",
       "      <th>PPI</th>\n",
       "      <th>Cpu Brand</th>\n",
       "      <th>HDD</th>\n",
       "      <th>SSD</th>\n",
       "      <th>Gpu Brand</th>\n",
       "      <th>Operating_System</th>\n",
       "    </tr>\n",
       "  </thead>\n",
       "  <tbody>\n",
       "    <tr>\n",
       "      <th>0</th>\n",
       "      <td>Apple</td>\n",
       "      <td>Ultrabook</td>\n",
       "      <td>8</td>\n",
       "      <td>1.37</td>\n",
       "      <td>Not Touch</td>\n",
       "      <td>IPS Channel</td>\n",
       "      <td>226.983005</td>\n",
       "      <td>Intel Core i5</td>\n",
       "      <td>0</td>\n",
       "      <td>128</td>\n",
       "      <td>Intel</td>\n",
       "      <td>Mac OS</td>\n",
       "    </tr>\n",
       "    <tr>\n",
       "      <th>1</th>\n",
       "      <td>Apple</td>\n",
       "      <td>Ultrabook</td>\n",
       "      <td>8</td>\n",
       "      <td>1.34</td>\n",
       "      <td>Not Touch</td>\n",
       "      <td>Not IPS Channel</td>\n",
       "      <td>127.677940</td>\n",
       "      <td>Intel Core i5</td>\n",
       "      <td>0</td>\n",
       "      <td>0</td>\n",
       "      <td>Intel</td>\n",
       "      <td>Mac OS</td>\n",
       "    </tr>\n",
       "  </tbody>\n",
       "</table>\n",
       "</div>"
      ],
      "text/plain": [
       "  Company   TypeName  Ram  Weight TouchScreen              Ips         PPI  \\\n",
       "0   Apple  Ultrabook    8    1.37   Not Touch      IPS Channel  226.983005   \n",
       "1   Apple  Ultrabook    8    1.34   Not Touch  Not IPS Channel  127.677940   \n",
       "\n",
       "       Cpu Brand  HDD  SSD Gpu Brand Operating_System  \n",
       "0  Intel Core i5    0  128     Intel           Mac OS  \n",
       "1  Intel Core i5    0    0     Intel           Mac OS  "
      ]
     },
     "execution_count": 9,
     "metadata": {},
     "output_type": "execute_result"
    }
   ],
   "source": [
    "x.head(2)"
   ]
  },
  {
   "cell_type": "code",
   "execution_count": 10,
   "id": "ba528dd1",
   "metadata": {},
   "outputs": [],
   "source": [
    "from sklearn.compose import ColumnTransformer\n",
    "from sklearn.preprocessing import OneHotEncoder\n",
    "ct = ColumnTransformer(transformers=[('encoder', OneHotEncoder(), [0,1,4,5,7,10,11])], \n",
    "                       remainder='passthrough')\n",
    "x=ct.fit_transform(x)\n",
    "#x = np.array(ct.fit_transform(x))"
   ]
  },
  {
   "cell_type": "code",
   "execution_count": 11,
   "id": "e8d50922",
   "metadata": {},
   "outputs": [
    {
     "data": {
      "text/plain": [
       "<1302x45 sparse matrix of type '<class 'numpy.float64'>'\n",
       "\twith 14439 stored elements in Compressed Sparse Row format>"
      ]
     },
     "execution_count": 11,
     "metadata": {},
     "output_type": "execute_result"
    }
   ],
   "source": [
    "x"
   ]
  },
  {
   "cell_type": "code",
   "execution_count": null,
   "id": "c4fd013b",
   "metadata": {},
   "outputs": [],
   "source": []
  },
  {
   "cell_type": "code",
   "execution_count": 12,
   "id": "68047275",
   "metadata": {},
   "outputs": [],
   "source": [
    "from sklearn.model_selection import train_test_split\n",
    "x_train, x_test, y_train, y_test = train_test_split(x,y, test_size=0.2, random_state=23)"
   ]
  },
  {
   "cell_type": "code",
   "execution_count": 13,
   "id": "f231485e",
   "metadata": {},
   "outputs": [
    {
     "name": "stdout",
     "output_type": "stream",
     "text": [
      "(1041, 45)\n",
      "(261, 45)\n",
      "(1041,)\n",
      "(261,)\n"
     ]
    }
   ],
   "source": [
    "print(x_train.shape)\n",
    "print(x_test.shape)\n",
    "print(y_train.shape)\n",
    "print(y_test.shape)"
   ]
  },
  {
   "cell_type": "markdown",
   "id": "dedcf6cf",
   "metadata": {},
   "source": [
    "# Linear Regression"
   ]
  },
  {
   "cell_type": "code",
   "execution_count": 14,
   "id": "efad7903",
   "metadata": {},
   "outputs": [
    {
     "data": {
      "text/plain": [
       "LinearRegression()"
      ]
     },
     "execution_count": 14,
     "metadata": {},
     "output_type": "execute_result"
    }
   ],
   "source": [
    "from sklearn.linear_model import LinearRegression\n",
    "regressor = LinearRegression()\n",
    "regressor.fit(x_train, y_train)"
   ]
  },
  {
   "cell_type": "code",
   "execution_count": 15,
   "id": "2caeca77",
   "metadata": {},
   "outputs": [
    {
     "data": {
      "text/plain": [
       "array([-1.24128995e-01,  1.13970420e-01, -2.55839412e-02, -4.66915442e-01,\n",
       "        3.90745519e-02, -2.99359953e-02,  3.09567351e-01,  6.99329003e-02,\n",
       "       -8.33435385e-02,  2.62314712e-01, -5.61066489e-03,  1.13862290e-01,\n",
       "       -4.57207714e-01,  2.54996580e-01,  2.10865519e-01,  1.34097325e-01,\n",
       "        2.01904032e-01, -6.13527292e-01,  9.56679011e-02,  1.11353659e-02,\n",
       "       -3.18314909e-02, -2.46840134e-01, -2.49652662e-01,  8.12224088e-03,\n",
       "        5.09066679e-01,  7.19555797e-02, -7.19555797e-02,  1.91737813e-02,\n",
       "       -1.91737813e-02, -1.60093083e-01, -6.39779131e-02,  2.36068026e-01,\n",
       "        2.83948258e-01, -2.95945288e-01, -5.94975312e-02,  2.27811752e-02,\n",
       "        3.67163560e-02,  1.13970420e-01, -1.67541961e-01,  5.35715414e-02,\n",
       "        2.62236628e-02,  5.31877755e-02,  2.61747187e-03,  2.29619010e-05,\n",
       "        6.33788490e-04])"
      ]
     },
     "execution_count": 15,
     "metadata": {},
     "output_type": "execute_result"
    }
   ],
   "source": [
    "regressor.coef_"
   ]
  },
  {
   "cell_type": "code",
   "execution_count": 16,
   "id": "bf762e2b",
   "metadata": {},
   "outputs": [
    {
     "data": {
      "text/plain": [
       "9.864631947741477"
      ]
     },
     "execution_count": 16,
     "metadata": {},
     "output_type": "execute_result"
    }
   ],
   "source": [
    "regressor.intercept_"
   ]
  },
  {
   "cell_type": "code",
   "execution_count": 17,
   "id": "56c106d4",
   "metadata": {},
   "outputs": [],
   "source": [
    "y_pred = regressor.predict(x_test)"
   ]
  },
  {
   "cell_type": "code",
   "execution_count": 18,
   "id": "509f23f2",
   "metadata": {},
   "outputs": [
    {
     "data": {
      "text/plain": [
       "(261,)"
      ]
     },
     "execution_count": 18,
     "metadata": {},
     "output_type": "execute_result"
    }
   ],
   "source": [
    "y_pred.shape"
   ]
  },
  {
   "cell_type": "code",
   "execution_count": null,
   "id": "11d05bbe",
   "metadata": {},
   "outputs": [],
   "source": []
  },
  {
   "cell_type": "code",
   "execution_count": 20,
   "id": "65d8b695",
   "metadata": {},
   "outputs": [],
   "source": [
    "from sklearn.metrics import r2_score,mean_absolute_error, mean_squared_error"
   ]
  },
  {
   "cell_type": "markdown",
   "id": "71ceb882",
   "metadata": {},
   "source": [
    "# Decision Tree Regressor"
   ]
  },
  {
   "cell_type": "code",
   "execution_count": 21,
   "id": "d5528c52",
   "metadata": {},
   "outputs": [
    {
     "name": "stdout",
     "output_type": "stream",
     "text": [
      "Mean Absolute Error =  0.1996769156878019\n",
      "R2 score =  0.8105294048736736\n"
     ]
    }
   ],
   "source": [
    "from sklearn.tree import DecisionTreeRegressor\n",
    "dec_reg = DecisionTreeRegressor(random_state = 0)\n",
    "dec_reg.fit(x_train,y_train)\n",
    "\n",
    "y_pred2 = dec_reg.predict(x_test)\n",
    "print('Mean Absolute Error = ',mean_absolute_error(y_test,y_pred2))\n",
    "print('R2 score = ',r2_score(y_test,y_pred2))"
   ]
  },
  {
   "cell_type": "code",
   "execution_count": 22,
   "id": "9f368d7b",
   "metadata": {},
   "outputs": [
    {
     "name": "stdout",
     "output_type": "stream",
     "text": [
      "Mean Absolute Error =  0.19518889231432232\n",
      "R2 score =  0.8123021368750741\n"
     ]
    }
   ],
   "source": [
    "from sklearn.tree import DecisionTreeRegressor\n",
    "dec_reg1 = DecisionTreeRegressor(max_depth=20 ,random_state = 0)\n",
    "dec_reg1.fit(x_train,y_train)\n",
    "\n",
    "y_pred2 = dec_reg1.predict(x_test)\n",
    "print('Mean Absolute Error = ',mean_absolute_error(y_test,y_pred2))\n",
    "print('R2 score = ',r2_score(y_test,y_pred2))"
   ]
  },
  {
   "cell_type": "markdown",
   "id": "39fcb114",
   "metadata": {},
   "source": [
    "# GridSearchCV in Decision Tree Regressor"
   ]
  },
  {
   "cell_type": "code",
   "execution_count": 23,
   "id": "9a148150",
   "metadata": {},
   "outputs": [],
   "source": [
    "from sklearn.model_selection import GridSearchCV"
   ]
  },
  {
   "cell_type": "code",
   "execution_count": 24,
   "id": "bdbd3702",
   "metadata": {},
   "outputs": [],
   "source": [
    "param_grid = {\n",
    "    'max_depth' : [2,4,8,10,13,17,20,None],\n",
    "    'max_features' : [0.25,0.5,1.0],\n",
    "    'min_samples_split' : [0.25,0.5,1.0],\n",
    "    'splitter' : [\"best\", \"random\"]\n",
    "}"
   ]
  },
  {
   "cell_type": "code",
   "execution_count": 25,
   "id": "9743cb0d",
   "metadata": {},
   "outputs": [],
   "source": [
    "reg=GridSearchCV(DecisionTreeRegressor(), param_grid=param_grid,cv=5)"
   ]
  },
  {
   "cell_type": "code",
   "execution_count": 26,
   "id": "b5d4bb6d",
   "metadata": {},
   "outputs": [
    {
     "data": {
      "text/plain": [
       "GridSearchCV(cv=5, estimator=DecisionTreeRegressor(),\n",
       "             param_grid={'max_depth': [2, 4, 8, 10, 13, 17, 20, None],\n",
       "                         'max_features': [0.25, 0.5, 1.0],\n",
       "                         'min_samples_split': [0.25, 0.5, 1.0],\n",
       "                         'splitter': ['best', 'random']})"
      ]
     },
     "execution_count": 26,
     "metadata": {},
     "output_type": "execute_result"
    }
   ],
   "source": [
    "reg.fit(x_train,y_train)"
   ]
  },
  {
   "cell_type": "code",
   "execution_count": 27,
   "id": "e3334ff8",
   "metadata": {},
   "outputs": [
    {
     "data": {
      "text/plain": [
       "{'max_depth': 13,\n",
       " 'max_features': 1.0,\n",
       " 'min_samples_split': 0.25,\n",
       " 'splitter': 'best'}"
      ]
     },
     "execution_count": 27,
     "metadata": {},
     "output_type": "execute_result"
    }
   ],
   "source": [
    "reg.best_params_"
   ]
  },
  {
   "cell_type": "code",
   "execution_count": 28,
   "id": "a0c6ded5",
   "metadata": {},
   "outputs": [
    {
     "data": {
      "text/plain": [
       "0.7380764488876984"
      ]
     },
     "execution_count": 28,
     "metadata": {},
     "output_type": "execute_result"
    }
   ],
   "source": [
    "reg.best_score_"
   ]
  },
  {
   "cell_type": "code",
   "execution_count": null,
   "id": "02ab8e3d",
   "metadata": {},
   "outputs": [],
   "source": []
  },
  {
   "cell_type": "code",
   "execution_count": null,
   "id": "917bcdc8",
   "metadata": {},
   "outputs": [],
   "source": []
  },
  {
   "cell_type": "code",
   "execution_count": null,
   "id": "e341863b",
   "metadata": {},
   "outputs": [],
   "source": []
  },
  {
   "cell_type": "markdown",
   "id": "be2d030f",
   "metadata": {},
   "source": [
    "# Random Forest Regression"
   ]
  },
  {
   "cell_type": "code",
   "execution_count": 29,
   "id": "9a8ff849",
   "metadata": {},
   "outputs": [
    {
     "name": "stdout",
     "output_type": "stream",
     "text": [
      "Mean Absolute Error =  0.1688621070462748\n",
      "R2 score =  0.8764672709450401\n"
     ]
    }
   ],
   "source": [
    "from sklearn.ensemble import RandomForestRegressor\n",
    "\n",
    "#rf_reg = RandomForestRegressor(n_estimators = 10, random_state = 0)\n",
    "\n",
    "rf_reg1 = RandomForestRegressor(n_estimators=100,\n",
    "random_state=3,\n",
    "max_samples=0.5,\n",
    "max_features=0.75,\n",
    "max_depth=15)\n",
    "\n",
    "rf_reg1.fit(x_train,y_train)\n",
    "\n",
    "y_pred3 = rf_reg1.predict(x_test)\n",
    "\n",
    "print('Mean Absolute Error = ',mean_absolute_error(y_test,y_pred3))\n",
    "print('R2 score = ',r2_score(y_test,y_pred3))"
   ]
  },
  {
   "cell_type": "markdown",
   "id": "382547d7",
   "metadata": {},
   "source": [
    "# GridSearchCV in Random Forest"
   ]
  },
  {
   "cell_type": "code",
   "execution_count": 30,
   "id": "efa6f715",
   "metadata": {},
   "outputs": [],
   "source": [
    "param_grid_rf = { 'n_estimators' : [10,30,50,70,100],\n",
    "    'max_depth' : [10,20,30,40,45,50,60,17,20,None],\n",
    "    'max_features' : [\"auto\", \"sqrt\"],\n",
    "    'min_samples_split' : [0.25,0.5,1.0,2,5],\n",
    "    'bootstrap': [True, False]\n",
    "}"
   ]
  },
  {
   "cell_type": "code",
   "execution_count": 31,
   "id": "36c4da0b",
   "metadata": {},
   "outputs": [],
   "source": [
    "reg_rf = GridSearchCV(RandomForestRegressor(), param_grid=param_grid_rf)"
   ]
  },
  {
   "cell_type": "code",
   "execution_count": 32,
   "id": "cc8d8a15",
   "metadata": {},
   "outputs": [
    {
     "data": {
      "text/plain": [
       "GridSearchCV(estimator=RandomForestRegressor(),\n",
       "             param_grid={'bootstrap': [True, False],\n",
       "                         'max_depth': [10, 20, 30, 40, 45, 50, 60, 17, 20,\n",
       "                                       None],\n",
       "                         'max_features': ['auto', 'sqrt'],\n",
       "                         'min_samples_split': [0.25, 0.5, 1.0, 2, 5],\n",
       "                         'n_estimators': [10, 30, 50, 70, 100]})"
      ]
     },
     "execution_count": 32,
     "metadata": {},
     "output_type": "execute_result"
    }
   ],
   "source": [
    "reg_rf.fit(x_train,y_train)"
   ]
  },
  {
   "cell_type": "code",
   "execution_count": 33,
   "id": "c0e8b19f",
   "metadata": {},
   "outputs": [
    {
     "data": {
      "text/plain": [
       "{'bootstrap': False,\n",
       " 'max_depth': 40,\n",
       " 'max_features': 'sqrt',\n",
       " 'min_samples_split': 5,\n",
       " 'n_estimators': 30}"
      ]
     },
     "execution_count": 33,
     "metadata": {},
     "output_type": "execute_result"
    }
   ],
   "source": [
    "reg_rf.best_params_"
   ]
  },
  {
   "cell_type": "markdown",
   "id": "7e841179",
   "metadata": {},
   "source": [
    "reg_rf.best_params_\n",
    "\n",
    "{'bootstrap': False,\n",
    " 'max_depth': 40,\n",
    " 'max_features': 'sqrt',\n",
    " 'min_samples_split': 5,\n",
    " 'n_estimators': 70}"
   ]
  },
  {
   "cell_type": "code",
   "execution_count": null,
   "id": "c972cf38",
   "metadata": {},
   "outputs": [],
   "source": [
    "reg_rf.best_score_"
   ]
  },
  {
   "cell_type": "code",
   "execution_count": null,
   "id": "11e28a09",
   "metadata": {},
   "outputs": [],
   "source": [
    "ideal_rf = RandomForestRegressor(bootstrap = False,\n",
    "                                 max_depth= 40,\n",
    "                                 max_features = 'sqrt',\n",
    "                                 min_samples_split = 5,\n",
    "                                 n_estimators = 70\n",
    "                                )"
   ]
  },
  {
   "cell_type": "code",
   "execution_count": null,
   "id": "27f2d8e2",
   "metadata": {},
   "outputs": [],
   "source": [
    "ideal_rf.fit(x_train,y_train)"
   ]
  },
  {
   "cell_type": "code",
   "execution_count": null,
   "id": "7f81bc32",
   "metadata": {},
   "outputs": [],
   "source": [
    "test_predictions_ideal_rf = ideal_rf.predict(x_test)"
   ]
  },
  {
   "cell_type": "code",
   "execution_count": null,
   "id": "1eda480a",
   "metadata": {},
   "outputs": [],
   "source": [
    "print(\"Test Mean Squared Error : \", mean_squared_error(y_test, test_predictions_ideal_rf))"
   ]
  },
  {
   "cell_type": "code",
   "execution_count": null,
   "id": "bbcbdee8",
   "metadata": {},
   "outputs": [],
   "source": [
    "print(\"R2 Score on Test Data : \",r2_score(y_test, test_predictions_ideal_rf))"
   ]
  },
  {
   "cell_type": "code",
   "execution_count": null,
   "id": "fa84b236",
   "metadata": {},
   "outputs": [],
   "source": []
  },
  {
   "cell_type": "code",
   "execution_count": null,
   "id": "8f1c67db",
   "metadata": {},
   "outputs": [],
   "source": [
    "train_predictions_ideal_rf = ideal_rf.predict(x_train)"
   ]
  },
  {
   "cell_type": "code",
   "execution_count": null,
   "id": "b68954aa",
   "metadata": {},
   "outputs": [],
   "source": [
    "print(\"Train Mean Squared Error : \", mean_squared_error(y_train, train_predictions_ideal_rf))"
   ]
  },
  {
   "cell_type": "code",
   "execution_count": null,
   "id": "83a64f0d",
   "metadata": {},
   "outputs": [],
   "source": [
    "print(\"R2 Score on Train Data : \",r2_score(y_train, train_predictions_ideal_rf))"
   ]
  },
  {
   "cell_type": "code",
   "execution_count": null,
   "id": "abfa13ed",
   "metadata": {
    "scrolled": true
   },
   "outputs": [],
   "source": [
    "ideal_rf.feature_importances_"
   ]
  },
  {
   "cell_type": "code",
   "execution_count": null,
   "id": "e91d1fb8",
   "metadata": {},
   "outputs": [],
   "source": [
    "print(\"Adjusted R2 Score on Train Data : \",adj(y_train, train_predictions_ideal_rf))"
   ]
  },
  {
   "cell_type": "code",
   "execution_count": null,
   "id": "bdfc2ebe",
   "metadata": {},
   "outputs": [],
   "source": [
    "# adjusted R-squared\n",
    "print(\"Adjusted R2 Score on Train Data : \",1-(1-ideal_rf.score(x,y))*(len(y)-1)/(len(y)-x.shape[1]- 1))"
   ]
  },
  {
   "cell_type": "code",
   "execution_count": null,
   "id": "2d9ef42b",
   "metadata": {},
   "outputs": [],
   "source": []
  }
 ],
 "metadata": {
  "kernelspec": {
   "display_name": "Python 3 (ipykernel)",
   "language": "python",
   "name": "python3"
  },
  "language_info": {
   "codemirror_mode": {
    "name": "ipython",
    "version": 3
   },
   "file_extension": ".py",
   "mimetype": "text/x-python",
   "name": "python",
   "nbconvert_exporter": "python",
   "pygments_lexer": "ipython3",
   "version": "3.9.13"
  }
 },
 "nbformat": 4,
 "nbformat_minor": 5
}
